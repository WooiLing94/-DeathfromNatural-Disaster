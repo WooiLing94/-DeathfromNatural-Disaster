{
 "cells": [
  {
   "cell_type": "code",
   "execution_count": 8,
   "id": "0f16b403",
   "metadata": {},
   "outputs": [
    {
     "name": "stderr",
     "output_type": "stream",
     "text": [
      "\n",
      "\n",
      "====== WebDriver manager ======\n",
      "Current google-chrome version is 96.0.4664\n",
      "Get LATEST chromedriver version for 96.0.4664 google-chrome\n",
      "Driver [C:\\Users\\wooi_ling_chin\\.wdm\\drivers\\chromedriver\\win32\\96.0.4664.45\\chromedriver.exe] found in cache\n",
      "C:\\Users\\WOOI_L~1\\AppData\\Local\\Temp/ipykernel_18944/3392871821.py:11: DeprecationWarning: executable_path has been deprecated, please pass in a Service object\n",
      "  driver = webdriver.Chrome(ChromeDriverManager().install())\n"
     ]
    }
   ],
   "source": [
    "# Use Selenium \n",
    "from selenium import webdriver\n",
    "from bs4 import BeautifulSoup as bs\n",
    "from webdriver_manager.chrome import ChromeDriverManager\n",
    "#import chromedriver_binary  # Adds chromedriver binary to path\n",
    "\n",
    "url='https://www.agoda.com/search?city=16087&locale=en-us&ckuid=975a38d7-62fc-4a5a-a08a-59e6e9681093&prid=0&gclid=Cj0KCQiAq7COBhC2ARIsANsPATHBHYhdPir59hdpq3w6cZ1y99cjG8ZqQjS7bkEGx2w4A_5-bwfZCWMaAptqEALw_wcB&currency=MYR&correlationId=ee09fbde-b483-468b-8a06-0378244bc3d3&pageTypeId=103&realLanguageId=1&languageId=1&origin=MY&cid=1891464&tag=df77112e-cf63-a25d-6550-3b3671750073&userId=975a38d7-62fc-4a5a-a08a-59e6e9681093&whitelabelid=1&loginLvl=0&storefrontId=3&currencyId=4&currencyCode=MYR&htmlLanguage=en-us&cultureInfoName=en-us&machineName=sg-crweb-6010&trafficGroupId=5&sessionId=fz4gh3hfmg4lbimxbrkfq41d&trafficSubGroupId=122&aid=82361&useFullPageLogin=true&cttp=4&isRealUser=true&mode=production&checkIn=2022-01-02&checkOut=2022-01-03&rooms=1&adults=2&children=0&priceCur=MYR&los=1&textToSearch=Penang&travellerType=1&familyMode=off&productType=-1'\n",
    "#url = \"https://www.accuweather.com/en/my/george-town/234975/december-weather/234975\"\n",
    "#url = \"https://ourworldindata.org/explorers/natural-disasters?tab=table&time=2011..latest&facet=none&hideControls=true&Disaster+Type=Floods&Impact=Total+affected&Timespan=Annual&Per+capita=false&country=~OWID_WRL\"\n",
    "\n",
    "driver = webdriver.Chrome(ChromeDriverManager().install())\n",
    "driver.get(url)\n",
    "\n",
    "soup = bs(driver.page_source,'html.parser')"
   ]
  },
  {
   "cell_type": "code",
   "execution_count": 9,
   "id": "e39f42dd",
   "metadata": {},
   "outputs": [],
   "source": [
    "## Natural Disaster\n",
    "data=[]\n",
    "# get data simply by looking for each a links\n",
    "for tr in soup.find_all('tr'):\n",
    "#     results = tr.text.split('\\n')\n",
    "#     print(results)\n",
    "#     data.append(tr.text)\n",
    "    data"
   ]
  },
  {
   "cell_type": "code",
   "execution_count": 10,
   "id": "f0028633",
   "metadata": {},
   "outputs": [
    {
     "name": "stdout",
     "output_type": "stream",
     "text": [
      "['EasyCancel2017Cititel Express Penang HotelGeorgetown, Penang - 0.1 km to centerBreakfastPopular! Last booked 1 hour agoExceptional price for this locationWEEKENDSALECoupon Code WEEKENDSALE applied - RM 3 off!']\n",
      "['Bayview Hotel GeorgetownGeorgetown, Penang - City centerBreakfastFree fitness center access+2Popular! Last booked 1 hour ago']\n",
      "['2020M Summit 191 Executive Hotel SuitesGeorgetown, Penang - 48 m to centerFree fitness center access+3Popular! Last booked 1 hour agoWEEKENDSALECoupon Code WEEKENDSALE applied - RM 34 off!']\n"
     ]
    }
   ],
   "source": [
    "## AGODA\n",
    "data=[]\n",
    "# get data simply by looking for each a links\n",
    "for tr in soup.find_all('div',attrs={'class':'Gridstyled__GridStyled-sc-dfh2k0-0 kEJDDi PropertyCard__Container'}):\n",
    "    for td in tr.find_all('div',attrs={'class':'Box-sc-kv6pi1-0 fHrsxh'}):\n",
    "        results = td.text.split('\\n')\n",
    "        print(results)\n",
    "        data.append(td.text)\n",
    "\n",
    "# driver.close()\n",
    "\n",
    "#data"
   ]
  },
  {
   "cell_type": "code",
   "execution_count": null,
   "id": "9a2ba77a",
   "metadata": {},
   "outputs": [],
   "source": []
  }
 ],
 "metadata": {
  "kernelspec": {
   "display_name": "Python 3 (ipykernel)",
   "language": "python",
   "name": "python3"
  },
  "language_info": {
   "codemirror_mode": {
    "name": "ipython",
    "version": 3
   },
   "file_extension": ".py",
   "mimetype": "text/x-python",
   "name": "python",
   "nbconvert_exporter": "python",
   "pygments_lexer": "ipython3",
   "version": "3.9.7"
  }
 },
 "nbformat": 4,
 "nbformat_minor": 5
}
