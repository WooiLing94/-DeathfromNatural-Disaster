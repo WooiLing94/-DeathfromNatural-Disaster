{
 "cells": [
  {
   "cell_type": "code",
   "execution_count": 1,
   "id": "64409f7a",
   "metadata": {},
   "outputs": [
    {
     "name": "stderr",
     "output_type": "stream",
     "text": [
      "\n",
      "\n",
      "====== WebDriver manager ======\n",
      "Current google-chrome version is 96.0.4664\n",
      "Get LATEST chromedriver version for 96.0.4664 google-chrome\n",
      "Driver [C:\\Users\\wooi_ling_chin\\.wdm\\drivers\\chromedriver\\win32\\96.0.4664.45\\chromedriver.exe] found in cache\n",
      "C:\\Users\\WOOI_L~1\\AppData\\Local\\Temp/ipykernel_5984/119793494.py:6: DeprecationWarning: executable_path has been deprecated, please pass in a Service object\n",
      "  driver = webdriver.Chrome(ChromeDriverManager().install())\n"
     ]
    }
   ],
   "source": [
    "import pandas as pd\n",
    "from bs4 import BeautifulSoup as bs\n",
    "from selenium import webdriver\n",
    "from webdriver_manager.chrome import ChromeDriverManager\n",
    "\n",
    "driver = webdriver.Chrome(ChromeDriverManager().install())\n",
    "\n",
    "header = []\n",
    "headers = []\n",
    "data = []\n",
    "\n",
    "#url = \"https://ourworldindata.org/explorers/natural-disasters?tab=table&time=2011..latest&facet=none&hideControls=true&Disaster+Type=All+disasters+%28by+type%29&Impact=Deaths&Timespan=Annual&Per+capita=false&country=~OWID_WRL\"\n",
    "url = \"https://ourworldindata.org/explorers/natural-disasters?tab=table&time=2011..latest&facet=none&country=~OWID_WRL&hideControls=true&Disaster+Type=Floods&Impact=Deaths&Timespan=Annual&Per+capita=false\"\n",
    "driver.get(url)"
   ]
  },
  {
   "cell_type": "code",
   "execution_count": 2,
   "id": "cb941739",
   "metadata": {},
   "outputs": [],
   "source": [
    "soup = bs(driver.page_source,\"html.parser\")\n",
    "target = soup.find_all('tbody')"
   ]
  },
  {
   "cell_type": "code",
   "execution_count": 4,
   "id": "6825f096",
   "metadata": {},
   "outputs": [],
   "source": [
    "for tr in target[0].find_all('tr'):\n",
    "    for td in tr.find_all('td',attrs={'class':'dimension dimension-single'}):\n",
    "    #print(tr)\n",
    "        results = td.text.split()\n",
    "        data.append(results)\n",
    "        print(results)"
   ]
  },
  {
   "cell_type": "code",
   "execution_count": null,
   "id": "4b1c20f0",
   "metadata": {},
   "outputs": [],
   "source": [
    "for tr in target[0].find_all('tr'):\n",
    "    for td in tr.find_all('td',attrs={'class':'entity sorted'}):\n",
    "        results = td.text.split('\\n')\n",
    "        print(results)\n",
    "        data.append(results)"
   ]
  },
  {
   "cell_type": "code",
   "execution_count": null,
   "id": "6c85fdbf",
   "metadata": {},
   "outputs": [],
   "source": [
    "for colname in soup.find('thead').find_all('th',attrs={'class':'entity sortable sorted'}):\n",
    "    result = colname.text\n",
    "    header.append(result)\n",
    "    print(result)"
   ]
  },
  {
   "cell_type": "code",
   "execution_count": null,
   "id": "8111c029",
   "metadata": {},
   "outputs": [],
   "source": [
    "df = pd.DataFrame(data, columns=header)\n",
    "#df.to_csv('naturalDisaster.csv')"
   ]
  },
  {
   "cell_type": "code",
   "execution_count": null,
   "id": "16b6e8fe",
   "metadata": {},
   "outputs": [],
   "source": [
    "print(results.sum())"
   ]
  },
  {
   "cell_type": "code",
   "execution_count": null,
   "id": "957b4e20",
   "metadata": {},
   "outputs": [],
   "source": []
  },
  {
   "cell_type": "code",
   "execution_count": null,
   "id": "d7ce5f38",
   "metadata": {},
   "outputs": [],
   "source": []
  },
  {
   "cell_type": "code",
   "execution_count": null,
   "id": "6d12284d",
   "metadata": {},
   "outputs": [],
   "source": []
  }
 ],
 "metadata": {
  "kernelspec": {
   "display_name": "Python 3 (ipykernel)",
   "language": "python",
   "name": "python3"
  },
  "language_info": {
   "codemirror_mode": {
    "name": "ipython",
    "version": 3
   },
   "file_extension": ".py",
   "mimetype": "text/x-python",
   "name": "python",
   "nbconvert_exporter": "python",
   "pygments_lexer": "ipython3",
   "version": "3.9.7"
  }
 },
 "nbformat": 4,
 "nbformat_minor": 5
}
