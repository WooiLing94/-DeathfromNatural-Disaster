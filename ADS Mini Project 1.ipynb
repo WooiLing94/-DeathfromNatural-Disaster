{
 "cells": [
  {
   "cell_type": "code",
   "execution_count": null,
   "id": "82ac93b4",
   "metadata": {},
   "outputs": [],
   "source": [
    "import pandas as pd\n",
    "from bs4 import BeautifulSoup as bs\n",
    "from selenium import webdriver\n",
    "from webdriver_manager.chrome import ChromeDriverManager\n",
    "\n",
    "driver = webdriver.Chrome(ChromeDriverManager().install())\n",
    "\n",
    "headers = []\n",
    "data = []\n",
    "\n",
    "url = \"https://www.accuweather.com/en/my/george-town/234975/december-weather/234975\"\n",
    "#url = \"https://ourworldindata.org/explorers/natural-disasters?tab=table&time=2011..latest&facet=none&hideControls=true&Disaster+Type=Floods&Impact=Total+affected&Timespan=Annual&Per+capita=false&country=~OWID_WRL\"\n",
    "driver.get(url)\n",
    "search = True\n",
    "while search:\n",
    "    soup = bs(driver.page_source,\"html.parser\")\n",
    "    for tr in soup.find_all('a',attrs={'class':'monthly-daypanel  is-past '}):\n",
    "        results = tr.text.split()\n",
    "        data.append(results)\n",
    "print(data)"
   ]
  },
  {
   "cell_type": "code",
   "execution_count": null,
   "id": "ebd3f82f",
   "metadata": {},
   "outputs": [],
   "source": [
    "search = True\n",
    "\n",
    "while search:\n",
    "    soup = bs(driver.page_source,\"html.parser\")\n",
    "    for td in soup.find_all('tr'):\n",
    "        results = tr.text.split()\n",
    "        data.append(results)\n",
    "        \n",
    "for colname in soup.find('div', attrs={'class':'monthly-header'}).find_all('div', attrs={'class':'day-text'}):\n",
    "    result = colname.text\n",
    "    headers.app\n",
    "df = pd.DataFrame(data, columns=headers)\n",
    "df.to_csv('WeatherForecast.csv')\n",
    "\n",
    "driver.close()"
   ]
  }
 ],
 "metadata": {
  "kernelspec": {
   "display_name": "Python 3 (ipykernel)",
   "language": "python",
   "name": "python3"
  },
  "language_info": {
   "codemirror_mode": {
    "name": "ipython",
    "version": 3
   },
   "file_extension": ".py",
   "mimetype": "text/x-python",
   "name": "python",
   "nbconvert_exporter": "python",
   "pygments_lexer": "ipython3",
   "version": "3.9.7"
  }
 },
 "nbformat": 4,
 "nbformat_minor": 5
}
