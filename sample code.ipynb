{
 "cells": [
  {
   "cell_type": "code",
   "execution_count": null,
   "id": "13866c7a",
   "metadata": {},
   "outputs": [],
   "source": [
    "import pandas as pd\n",
    "from bs4 import BeautifulSoup as bs\n",
    "from selenium import webdriver\n",
    "from webdriver_manager.chrome import ChromeDriverManager\n",
    "\n",
    "driver = webdriver.Chrome(ChromeDriverManager().install())\n",
    "\n",
    "headers = []\n",
    "data = []\n",
    "\n",
    "url = \"https://public.flourish.studio/visualisation/1641110/embed?auto=1\"\n",
    "driver.get(url)\n",
    "\n",
    "search = True\n",
    "\n",
    "while search:\n",
    "    soup = bs(driver.page_source,\"html.parser\")\n",
    "    for tr in soup.find_all('div', attrs = {'class':'tr body-row'}):\n",
    "        results = tr.text.split()\n",
    "        data.append(results)\n",
    "#if the date not match, stop the searching\n",
    "    if '1-Jan-21' in results:\n",
    "        search = False\n",
    "        break\n",
    "#click on page next button        \n",
    "    driver.find_element_by_xpath('/html/body/main/section[4]/div[1]/div/div[4]/button[2]').click()         \n",
    "\n",
    "for colname in soup.find('div', attrs={'id':'header-row'}).find_all('div', attrs={'class':'td'}):\n",
    "    result = colname.text\n",
    "    headers.append(result)\n",
    "    \n",
    "df = pd.DataFrame(data, columns=headers)\n",
    "df.to_csv('dataScraping.csv')\n",
    "\n",
    "driver.close()"
   ]
  },
  {
   "cell_type": "code",
   "execution_count": 1,
   "id": "fd408496",
   "metadata": {},
   "outputs": [
    {
     "name": "stderr",
     "output_type": "stream",
     "text": [
      "\n",
      "\n",
      "====== WebDriver manager ======\n",
      "Current google-chrome version is 96.0.4664\n",
      "Get LATEST chromedriver version for 96.0.4664 google-chrome\n",
      "Driver [C:\\Users\\wooi_ling_chin\\.wdm\\drivers\\chromedriver\\win32\\96.0.4664.45\\chromedriver.exe] found in cache\n",
      "C:\\Users\\WOOI_L~1\\AppData\\Local\\Temp/ipykernel_17212/4280679228.py:6: DeprecationWarning: executable_path has been deprecated, please pass in a Service object\n",
      "  driver = webdriver.Chrome(ChromeDriverManager().install())\n"
     ]
    }
   ],
   "source": [
    "import pandas as pd\n",
    "from bs4 import BeautifulSoup as bs\n",
    "from selenium import webdriver\n",
    "from webdriver_manager.chrome import ChromeDriverManager\n",
    "\n",
    "driver = webdriver.Chrome(ChromeDriverManager().install())\n",
    "\n",
    "headers = []\n",
    "data = []\n",
    "\n",
    "url = \"https://public.flourish.studio/visualisation/1641110/embed?auto=1\"\n",
    "driver.get(url)\n",
    "soup = bs(driver.page_source,\"html.parser\")"
   ]
  },
  {
   "cell_type": "code",
   "execution_count": 4,
   "id": "c424f5c4",
   "metadata": {},
   "outputs": [
    {
     "name": "stdout",
     "output_type": "stream",
     "text": [
      "<div class=\"tr body-row\" style=\"border-bottom: 1px solid rgb(221, 221, 221);\"><div class=\"td\" data-header=\"Date\" style=\"height: 20px; padding: 0px 5px; font-size: 1.1rem; vertical-align: middle; color: rgb(51, 51, 51); text-align: left;\"><p>22-Apr-21</p>\n",
      "</div><div class=\"td\" data-header=\"Total cases\" style=\"height: 20px; padding: 0px 5px; font-size: 1.1rem; vertical-align: middle; color: rgb(51, 51, 51); text-align: left;\"><p>384688</p>\n",
      "</div><div class=\"td\" data-header=\"New cases\" style=\"height: 20px; padding: 0px 5px; font-size: 1.1rem; vertical-align: middle; color: rgb(51, 51, 51); text-align: left;\"><p>2875</p>\n",
      "</div><div class=\"td\" data-header=\"Total deaths\" style=\"height: 20px; padding: 0px 5px; font-size: 1.1rem; vertical-align: middle; color: rgb(51, 51, 51); text-align: left;\"><p>1407</p>\n",
      "</div><div class=\"td\" data-header=\"Total recovered\" style=\"height: 20px; padding: 0px 5px; font-size: 1.1rem; vertical-align: middle; color: rgb(51, 51, 51); text-align: left;\"><p>361267</p>\n",
      "</div></div>\n",
      "['22-Apr-21', '384688', '2875', '1407', '361267']\n",
      "<div class=\"tr body-row\" style=\"border-bottom: 1px solid rgb(221, 221, 221);\"><div class=\"td\" data-header=\"Date\" style=\"height: 20px; padding: 0px 5px; font-size: 1.1rem; vertical-align: middle; color: rgb(51, 51, 51); text-align: left;\"><p>21-Apr-21</p>\n",
      "</div><div class=\"td\" data-header=\"Total cases\" style=\"height: 20px; padding: 0px 5px; font-size: 1.1rem; vertical-align: middle; color: rgb(51, 51, 51); text-align: left;\"><p>381813</p>\n",
      "</div><div class=\"td\" data-header=\"New cases\" style=\"height: 20px; padding: 0px 5px; font-size: 1.1rem; vertical-align: middle; color: rgb(51, 51, 51); text-align: left;\"><p>2340</p>\n",
      "</div><div class=\"td\" data-header=\"Total deaths\" style=\"height: 20px; padding: 0px 5px; font-size: 1.1rem; vertical-align: middle; color: rgb(51, 51, 51); text-align: left;\"><p>1400</p>\n",
      "</div><div class=\"td\" data-header=\"Total recovered\" style=\"height: 20px; padding: 0px 5px; font-size: 1.1rem; vertical-align: middle; color: rgb(51, 51, 51); text-align: left;\"><p>358726</p>\n",
      "</div></div>\n",
      "['21-Apr-21', '381813', '2340', '1400', '358726']\n",
      "<div class=\"tr body-row\" style=\"border-bottom: 1px solid rgb(221, 221, 221);\"><div class=\"td\" data-header=\"Date\" style=\"height: 20px; padding: 0px 5px; font-size: 1.1rem; vertical-align: middle; color: rgb(51, 51, 51); text-align: left;\"><p>20-Apr-21</p>\n",
      "</div><div class=\"td\" data-header=\"Total cases\" style=\"height: 20px; padding: 0px 5px; font-size: 1.1rem; vertical-align: middle; color: rgb(51, 51, 51); text-align: left;\"><p>379473</p>\n",
      "</div><div class=\"td\" data-header=\"New cases\" style=\"height: 20px; padding: 0px 5px; font-size: 1.1rem; vertical-align: middle; color: rgb(51, 51, 51); text-align: left;\"><p>2341</p>\n",
      "</div><div class=\"td\" data-header=\"Total deaths\" style=\"height: 20px; padding: 0px 5px; font-size: 1.1rem; vertical-align: middle; color: rgb(51, 51, 51); text-align: left;\"><p>1389</p>\n",
      "</div><div class=\"td\" data-header=\"Total recovered\" style=\"height: 20px; padding: 0px 5px; font-size: 1.1rem; vertical-align: middle; color: rgb(51, 51, 51); text-align: left;\"><p>356816</p>\n",
      "</div></div>\n",
      "['20-Apr-21', '379473', '2341', '1389', '356816']\n",
      "<div class=\"tr body-row\" style=\"border-bottom: 1px solid rgb(221, 221, 221);\"><div class=\"td\" data-header=\"Date\" style=\"height: 20px; padding: 0px 5px; font-size: 1.1rem; vertical-align: middle; color: rgb(51, 51, 51); text-align: left;\"><p>19-Apr-21</p>\n",
      "</div><div class=\"td\" data-header=\"Total cases\" style=\"height: 20px; padding: 0px 5px; font-size: 1.1rem; vertical-align: middle; color: rgb(51, 51, 51); text-align: left;\"><p>377132</p>\n",
      "</div><div class=\"td\" data-header=\"New cases\" style=\"height: 20px; padding: 0px 5px; font-size: 1.1rem; vertical-align: middle; color: rgb(51, 51, 51); text-align: left;\"><p>2078</p>\n",
      "</div><div class=\"td\" data-header=\"Total deaths\" style=\"height: 20px; padding: 0px 5px; font-size: 1.1rem; vertical-align: middle; color: rgb(51, 51, 51); text-align: left;\"><p>1386</p>\n",
      "</div><div class=\"td\" data-header=\"Total recovered\" style=\"height: 20px; padding: 0px 5px; font-size: 1.1rem; vertical-align: middle; color: rgb(51, 51, 51); text-align: left;\"><p>355224</p>\n",
      "</div></div>\n",
      "['19-Apr-21', '377132', '2078', '1386', '355224']\n",
      "<div class=\"tr body-row\" style=\"border-bottom: 1px solid rgb(221, 221, 221);\"><div class=\"td\" data-header=\"Date\" style=\"height: 20px; padding: 0px 5px; font-size: 1.1rem; vertical-align: middle; color: rgb(51, 51, 51); text-align: left;\"><p>18-Apr-21</p>\n",
      "</div><div class=\"td\" data-header=\"Total cases\" style=\"height: 20px; padding: 0px 5px; font-size: 1.1rem; vertical-align: middle; color: rgb(51, 51, 51); text-align: left;\"><p>375054</p>\n",
      "</div><div class=\"td\" data-header=\"New cases\" style=\"height: 20px; padding: 0px 5px; font-size: 1.1rem; vertical-align: middle; color: rgb(51, 51, 51); text-align: left;\"><p>2195</p>\n",
      "</div><div class=\"td\" data-header=\"Total deaths\" style=\"height: 20px; padding: 0px 5px; font-size: 1.1rem; vertical-align: middle; color: rgb(51, 51, 51); text-align: left;\"><p>1378</p>\n",
      "</div><div class=\"td\" data-header=\"Total recovered\" style=\"height: 20px; padding: 0px 5px; font-size: 1.1rem; vertical-align: middle; color: rgb(51, 51, 51); text-align: left;\"><p>353822</p>\n",
      "</div></div>\n",
      "['18-Apr-21', '375054', '2195', '1378', '353822']\n",
      "<div class=\"tr body-row\" style=\"border-bottom: 1px solid rgb(221, 221, 221);\"><div class=\"td\" data-header=\"Date\" style=\"height: 20px; padding: 0px 5px; font-size: 1.1rem; vertical-align: middle; color: rgb(51, 51, 51); text-align: left;\"><p>17-Apr-21</p>\n",
      "</div><div class=\"td\" data-header=\"Total cases\" style=\"height: 20px; padding: 0px 5px; font-size: 1.1rem; vertical-align: middle; color: rgb(51, 51, 51); text-align: left;\"><p>372859</p>\n",
      "</div><div class=\"td\" data-header=\"New cases\" style=\"height: 20px; padding: 0px 5px; font-size: 1.1rem; vertical-align: middle; color: rgb(51, 51, 51); text-align: left;\"><p>2331</p>\n",
      "</div><div class=\"td\" data-header=\"Total deaths\" style=\"height: 20px; padding: 0px 5px; font-size: 1.1rem; vertical-align: middle; color: rgb(51, 51, 51); text-align: left;\"><p>1370</p>\n",
      "</div><div class=\"td\" data-header=\"Total recovered\" style=\"height: 20px; padding: 0px 5px; font-size: 1.1rem; vertical-align: middle; color: rgb(51, 51, 51); text-align: left;\"><p>352395</p>\n",
      "</div></div>\n",
      "['17-Apr-21', '372859', '2331', '1370', '352395']\n",
      "<div class=\"tr body-row\" style=\"border-bottom: 1px solid rgb(221, 221, 221);\"><div class=\"td\" data-header=\"Date\" style=\"height: 20px; padding: 0px 5px; font-size: 1.1rem; vertical-align: middle; color: rgb(51, 51, 51); text-align: left;\"><p>16-Apr-21</p>\n",
      "</div><div class=\"td\" data-header=\"Total cases\" style=\"height: 20px; padding: 0px 5px; font-size: 1.1rem; vertical-align: middle; color: rgb(51, 51, 51); text-align: left;\"><p>370528</p>\n",
      "</div><div class=\"td\" data-header=\"New cases\" style=\"height: 20px; padding: 0px 5px; font-size: 1.1rem; vertical-align: middle; color: rgb(51, 51, 51); text-align: left;\"><p>2551</p>\n",
      "</div><div class=\"td\" data-header=\"Total deaths\" style=\"height: 20px; padding: 0px 5px; font-size: 1.1rem; vertical-align: middle; color: rgb(51, 51, 51); text-align: left;\"><p>1365</p>\n",
      "</div><div class=\"td\" data-header=\"Total recovered\" style=\"height: 20px; padding: 0px 5px; font-size: 1.1rem; vertical-align: middle; color: rgb(51, 51, 51); text-align: left;\"><p>350563</p>\n",
      "</div></div>\n",
      "['16-Apr-21', '370528', '2551', '1365', '350563']\n"
     ]
    }
   ],
   "source": [
    "for tr in soup.find_all('div', attrs = {'class':'tr body-row'}):\n",
    "    print(tr)\n",
    "    results = tr.text.split()\n",
    "    data.append(results)\n",
    "    print(results)"
   ]
  },
  {
   "cell_type": "code",
   "execution_count": null,
   "id": "32b5aee8",
   "metadata": {},
   "outputs": [],
   "source": [
    "for colname in soup.find('div', attrs={'id':'header-row'}).find_all('div', attrs={'class':'td'}):\n",
    "    result = colname.text\n",
    "    headers.append(result)\n",
    "    print(result)"
   ]
  },
  {
   "cell_type": "code",
   "execution_count": null,
   "id": "8f26c286",
   "metadata": {},
   "outputs": [],
   "source": [
    "df = pd.DataFrame(data, columns=headers)\n",
    "df.to_csv('dataScraping.csv')"
   ]
  },
  {
   "cell_type": "code",
   "execution_count": null,
   "id": "5e03b728",
   "metadata": {},
   "outputs": [],
   "source": [
    "driver.close()"
   ]
  }
 ],
 "metadata": {
  "kernelspec": {
   "display_name": "Python 3 (ipykernel)",
   "language": "python",
   "name": "python3"
  },
  "language_info": {
   "codemirror_mode": {
    "name": "ipython",
    "version": 3
   },
   "file_extension": ".py",
   "mimetype": "text/x-python",
   "name": "python",
   "nbconvert_exporter": "python",
   "pygments_lexer": "ipython3",
   "version": "3.9.7"
  }
 },
 "nbformat": 4,
 "nbformat_minor": 5
}
