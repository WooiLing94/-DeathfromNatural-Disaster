{
 "cells": [
  {
   "cell_type": "code",
   "execution_count": 1,
   "id": "0dfdf095",
   "metadata": {},
   "outputs": [],
   "source": [
    "import pandas as pd\n",
    "import numpy as np\n",
    "import re\n",
    "from matplotlib import pyplot as plt\n",
    "import plotly\n",
    "import plotly.graph_objs as go"
   ]
  },
  {
   "cell_type": "code",
   "execution_count": 2,
   "id": "403d122d",
   "metadata": {},
   "outputs": [],
   "source": [
    "def getFloods(request):\n",
    "    df = pd.read_csv('naturalDisaster.csv')\n",
    "    df.drop(['Extreme temperature','Mass movement (dry)','Volcanic activity','Drought'], axis = 1, inplace = True)\n",
    "    df = df[df[\"Country\"].str.contains(\"income\")==False]\n",
    "    df['Flood'] = pd.to_numeric(df['Flood'],errors='coerce')\n",
    "    df = df.replace(np.nan, 0)\n",
    "    df= df[df['Flood'] > 150]\n",
    "    x = df['Country']\n",
    "    y = df['Flood']\n",
    "    plt.plot(x,y)\n",
    "    plt.xlabel('Country')\n",
    "    plt.ylabel('Flood')\n",
    "    response = HttpResponse(content_type=\"image/jpeg\")\n",
    "    plt.savefig(response,fotmat=\"png\")\n",
    "    return response"
   ]
  },
  {
   "cell_type": "code",
   "execution_count": 3,
   "id": "ab2c8bac",
   "metadata": {},
   "outputs": [
    {
     "ename": "NameError",
     "evalue": "name 'df' is not defined",
     "output_type": "error",
     "traceback": [
      "\u001b[1;31m---------------------------------------------------------------------------\u001b[0m",
      "\u001b[1;31mNameError\u001b[0m                                 Traceback (most recent call last)",
      "\u001b[1;32mC:\\Users\\WOOI_L~1\\AppData\\Local\\Temp/ipykernel_15184/1396537375.py\u001b[0m in \u001b[0;36m<module>\u001b[1;34m\u001b[0m\n\u001b[1;32m----> 1\u001b[1;33m \u001b[0mdf\u001b[0m\u001b[1;33m\u001b[0m\u001b[1;33m\u001b[0m\u001b[0m\n\u001b[0m",
      "\u001b[1;31mNameError\u001b[0m: name 'df' is not defined"
     ]
    }
   ],
   "source": [
    "df"
   ]
  },
  {
   "cell_type": "code",
   "execution_count": null,
   "id": "5b632bcc",
   "metadata": {},
   "outputs": [],
   "source": []
  }
 ],
 "metadata": {
  "kernelspec": {
   "display_name": "Python 3 (ipykernel)",
   "language": "python",
   "name": "python3"
  },
  "language_info": {
   "codemirror_mode": {
    "name": "ipython",
    "version": 3
   },
   "file_extension": ".py",
   "mimetype": "text/x-python",
   "name": "python",
   "nbconvert_exporter": "python",
   "pygments_lexer": "ipython3",
   "version": "3.9.7"
  }
 },
 "nbformat": 4,
 "nbformat_minor": 5
}
