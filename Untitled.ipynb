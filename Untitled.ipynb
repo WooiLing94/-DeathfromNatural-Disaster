{
 "cells": [
  {
   "cell_type": "code",
   "execution_count": null,
   "id": "69024ba2",
   "metadata": {},
   "outputs": [],
   "source": [
    "# df['Flood'] = df['Flood']\n",
    "# result = re.sub(r'[^0-9.]', '', df['Flood'])"
   ]
  },
  {
   "cell_type": "code",
   "execution_count": null,
   "id": "68706902",
   "metadata": {},
   "outputs": [],
   "source": [
    "df[\"Flood\"] = pd.to_numeric(df[\"Flood\"])"
   ]
  },
  {
   "cell_type": "code",
   "execution_count": null,
   "id": "de587333",
   "metadata": {},
   "outputs": [],
   "source": [
    "df = df.replace(to_replace=\"0\",value=\"NaN\")"
   ]
  },
  {
   "cell_type": "code",
   "execution_count": null,
   "id": "522f5308",
   "metadata": {},
   "outputs": [],
   "source": [
    "df.head()"
   ]
  },
  {
   "cell_type": "code",
   "execution_count": null,
   "id": "04d6cc20",
   "metadata": {},
   "outputs": [],
   "source": [
    "df[\"Wildfire\"] = df[\"Wildfire\"].dropna()"
   ]
  },
  {
   "cell_type": "code",
   "execution_count": null,
   "id": "edf8ca89",
   "metadata": {},
   "outputs": [],
   "source": [
    "df[\"Wildfire\"].isnull().sum()"
   ]
  },
  {
   "cell_type": "code",
   "execution_count": null,
   "id": "5985a5da",
   "metadata": {},
   "outputs": [],
   "source": [
    "df = df.replace(0, np.nan)\n",
    "df = df.dropna(how='all', axis=0)"
   ]
  },
  {
   "cell_type": "code",
   "execution_count": null,
   "id": "e996dbe8",
   "metadata": {},
   "outputs": [],
   "source": [
    "df = [x for x in df if x !=0]"
   ]
  }
 ],
 "metadata": {
  "kernelspec": {
   "display_name": "Python 3 (ipykernel)",
   "language": "python",
   "name": "python3"
  },
  "language_info": {
   "codemirror_mode": {
    "name": "ipython",
    "version": 3
   },
   "file_extension": ".py",
   "mimetype": "text/x-python",
   "name": "python",
   "nbconvert_exporter": "python",
   "pygments_lexer": "ipython3",
   "version": "3.9.7"
  }
 },
 "nbformat": 4,
 "nbformat_minor": 5
}
